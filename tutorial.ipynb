{
 "cells": [
  {
   "cell_type": "markdown",
   "metadata": {
    "collapsed": true,
    "deletable": true,
    "editable": true
   },
   "source": [
    "# Tutorial\n",
    "\n",
    "This tutorial shows the steps needed to apply dynamic fuzzing to a Plain Old Python Class (POPC).  Fuzzing is applied at the method level, although more sophisticated fuzzers can be constructed which filter out parts of a method's syntax tree as desired."
   ]
  },
  {
   "cell_type": "markdown",
   "metadata": {
    "deletable": true,
    "editable": true
   },
   "source": [
    "Consider the following Python class, <code>Hand</code> for representing the cleanliness state of your hands:"
   ]
  },
  {
   "cell_type": "code",
   "execution_count": 21,
   "metadata": {
    "collapsed": true,
    "deletable": true,
    "editable": true
   },
   "outputs": [],
   "source": [
    "class Hands(object):\n",
    "    def __init__(self):\n",
    "        self.clean = False\n",
    "        self.soaped = False"
   ]
  },
  {
   "cell_type": "markdown",
   "metadata": {
    "deletable": true,
    "editable": true
   },
   "source": [
    "Now consider the classes <code>GetDirtyWorkflow</code>, <code>WashWorkflow</code> and <code>RinseWorkflow</code> describing workflows in [Theatre_Ag]() for washing and rinsing, respectively."
   ]
  },
  {
   "cell_type": "code",
   "execution_count": 31,
   "metadata": {
    "collapsed": false,
    "deletable": true,
    "editable": true
   },
   "outputs": [],
   "source": [
    "class GetDirtyWorkflow(object):\n",
    "    \n",
    "    is_workflow = True\n",
    "    \n",
    "    def __init__(self, washable):\n",
    "        self.washable = washable\n",
    "        \n",
    "    def dirty(self):\n",
    "        self.washable.clean = False\n",
    "        self.washable.soaped = False\n",
    "\n",
    "class RinseWorkflow(object):\n",
    "\n",
    "    is_workflow = True\n",
    "\n",
    "    def __init__(self, washable):\n",
    "        self.washable = washable\n",
    "\n",
    "    def rinse(self):\n",
    "        self.washable.soaped = False\n",
    "\n",
    "\n",
    "class WashWorkflow(object):\n",
    "\n",
    "    is_workflow = True\n",
    "\n",
    "    def __init__(self, washable):\n",
    "        self.washable = washable\n",
    "        self.rinse = RinseWorkflow(washable)\n",
    "\n",
    "    def add_soap(self):\n",
    "        self.washable.soaped = True\n",
    "\n",
    "    def scrub(self):\n",
    "        if self.washable.soaped:\n",
    "            self.washable.clean = True\n",
    "\n",
    "    def wash(self):\n",
    "       self.add_soap()\n",
    "       self.scrub()\n",
    "       self.rinse.rinse()"
   ]
  },
  {
   "cell_type": "markdown",
   "metadata": {
    "deletable": true,
    "editable": true
   },
   "source": [
    "We can fuzz the workflow so that the default sequence of steps in <code>wash</code> gets randomly permuted:"
   ]
  },
  {
   "cell_type": "code",
   "execution_count": 32,
   "metadata": {
    "collapsed": false,
    "deletable": true,
    "editable": true
   },
   "outputs": [],
   "source": [
    "from pydysofu import fuzz_clazz\n",
    "from pydysofu.core_fuzzers import shuffle_steps\n",
    "\n",
    "advice = {\n",
    "    WashWorkflow.wash: shuffle_steps\n",
    "}\n",
    "fuzz_clazz(WashWorkflow, advice)"
   ]
  },
  {
   "cell_type": "markdown",
   "metadata": {
    "deletable": true,
    "editable": true
   },
   "source": [
    "The advice dictionary maps the function pointer to the <code>shuffle_steps</code> fuzzer.  The <code>fuzz_clazz</code> function then applies this advice dictionary to the whole <code>WashWorkflow</code> class.\n",
    "\n",
    "Now we can use the fuzzed class as normal."
   ]
  },
  {
   "cell_type": "code",
   "execution_count": 40,
   "metadata": {
    "collapsed": false,
    "deletable": true,
    "editable": true
   },
   "outputs": [
    {
     "name": "stdout",
     "output_type": "stream",
     "text": [
      "False\n",
      "False\n",
      "True\n",
      "False\n",
      "False\n",
      "False\n",
      "False\n",
      "True\n",
      "False\n",
      "False\n"
     ]
    }
   ],
   "source": [
    "hands = Hands()\n",
    "get_dirty_workflow = GetDirtyWorkflow(hands)\n",
    "wash_workflow = WashWorkflow(hands)\n",
    "\n",
    "for _ in range(0, 10):\n",
    "    get_dirty_workflow.dirty()\n",
    "    wash_workflow.wash()\n",
    "    print hands.clean"
   ]
  },
  {
   "cell_type": "markdown",
   "metadata": {
    "deletable": true,
    "editable": true
   },
   "source": [
    "Note that the fuzzer will be re-applied each time the fuzzed function is called meaning that in this case a different step can be removed from the workflow on each invocation."
   ]
  }
 ],
 "metadata": {
  "kernelspec": {
   "display_name": "Python 2",
   "language": "python",
   "name": "python2"
  },
  "language_info": {
   "codemirror_mode": {
    "name": "ipython",
    "version": 2
   },
   "file_extension": ".py",
   "mimetype": "text/x-python",
   "name": "python",
   "nbconvert_exporter": "python",
   "pygments_lexer": "ipython2",
   "version": "2.7.13"
  }
 },
 "nbformat": 4,
 "nbformat_minor": 0
}
